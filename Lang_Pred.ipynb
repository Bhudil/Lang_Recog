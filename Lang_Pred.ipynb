{
 "cells": [
  {
   "cell_type": "markdown",
   "id": "f0a5b445",
   "metadata": {},
   "source": [
    "## DATA LOADING AND PREPROCESSING"
   ]
  },
  {
   "cell_type": "code",
   "execution_count": 10,
   "id": "6434fd8a",
   "metadata": {},
   "outputs": [],
   "source": [
    "import pandas as pd\n",
    "import numpy as np\n",
    "import seaborn as sns"
   ]
  },
  {
   "cell_type": "code",
   "execution_count": 2,
   "id": "62f2e07f",
   "metadata": {},
   "outputs": [],
   "source": [
    "df=pd.read_csv(\"C:/Users/bhudi/Downloads/Language Detection.csv\")"
   ]
  },
  {
   "cell_type": "code",
   "execution_count": 3,
   "id": "b481c49b",
   "metadata": {},
   "outputs": [
    {
     "data": {
      "text/html": [
       "<div>\n",
       "<style scoped>\n",
       "    .dataframe tbody tr th:only-of-type {\n",
       "        vertical-align: middle;\n",
       "    }\n",
       "\n",
       "    .dataframe tbody tr th {\n",
       "        vertical-align: top;\n",
       "    }\n",
       "\n",
       "    .dataframe thead th {\n",
       "        text-align: right;\n",
       "    }\n",
       "</style>\n",
       "<table border=\"1\" class=\"dataframe\">\n",
       "  <thead>\n",
       "    <tr style=\"text-align: right;\">\n",
       "      <th></th>\n",
       "      <th>Text</th>\n",
       "      <th>Language</th>\n",
       "    </tr>\n",
       "  </thead>\n",
       "  <tbody>\n",
       "    <tr>\n",
       "      <th>0</th>\n",
       "      <td>Nature, in the broadest sense, is the natural...</td>\n",
       "      <td>English</td>\n",
       "    </tr>\n",
       "    <tr>\n",
       "      <th>1</th>\n",
       "      <td>\"Nature\" can refer to the phenomena of the phy...</td>\n",
       "      <td>English</td>\n",
       "    </tr>\n",
       "    <tr>\n",
       "      <th>2</th>\n",
       "      <td>The study of nature is a large, if not the onl...</td>\n",
       "      <td>English</td>\n",
       "    </tr>\n",
       "    <tr>\n",
       "      <th>3</th>\n",
       "      <td>Although humans are part of nature, human acti...</td>\n",
       "      <td>English</td>\n",
       "    </tr>\n",
       "    <tr>\n",
       "      <th>4</th>\n",
       "      <td>[1] The word nature is borrowed from the Old F...</td>\n",
       "      <td>English</td>\n",
       "    </tr>\n",
       "  </tbody>\n",
       "</table>\n",
       "</div>"
      ],
      "text/plain": [
       "                                                Text Language\n",
       "0   Nature, in the broadest sense, is the natural...  English\n",
       "1  \"Nature\" can refer to the phenomena of the phy...  English\n",
       "2  The study of nature is a large, if not the onl...  English\n",
       "3  Although humans are part of nature, human acti...  English\n",
       "4  [1] The word nature is borrowed from the Old F...  English"
      ]
     },
     "execution_count": 3,
     "metadata": {},
     "output_type": "execute_result"
    }
   ],
   "source": [
    "df.head()"
   ]
  },
  {
   "cell_type": "code",
   "execution_count": 7,
   "id": "643cc7ff",
   "metadata": {},
   "outputs": [
    {
     "data": {
      "text/plain": [
       "English       1385\n",
       "French        1014\n",
       "Spanish        819\n",
       "Portugeese     739\n",
       "Italian        698\n",
       "Russian        692\n",
       "Sweedish       676\n",
       "Malayalam      594\n",
       "Dutch          546\n",
       "Arabic         536\n",
       "Turkish        474\n",
       "German         470\n",
       "Tamil          469\n",
       "Danish         428\n",
       "Kannada        369\n",
       "Greek          365\n",
       "Hindi           63\n",
       "Name: Language, dtype: int64"
      ]
     },
     "execution_count": 7,
     "metadata": {},
     "output_type": "execute_result"
    }
   ],
   "source": [
    "df['Language'].value_counts()\n"
   ]
  },
  {
   "cell_type": "code",
   "execution_count": 8,
   "id": "c797d3c5",
   "metadata": {},
   "outputs": [],
   "source": [
    "counts = df[\"Language\"].value_counts().reset_index()\n",
    "counts.columns = [\"Language\", \"Count\"]"
   ]
  },
  {
   "cell_type": "code",
   "execution_count": 12,
   "id": "73e6e3d6",
   "metadata": {},
   "outputs": [
    {
     "data": {
      "text/plain": [
       "<Axes: xlabel='Count', ylabel='Language'>"
      ]
     },
     "execution_count": 12,
     "metadata": {},
     "output_type": "execute_result"
    },
    {
     "data": {
      "image/png": "[encoded data removed]",
      "text/plain": [
       "<Figure size 640x480 with 1 Axes>"
      ]
     },
     "metadata": {},
     "output_type": "display_data"
    }
   ],
   "source": [
    "sns.barplot(x='Count', y='Language', data=counts, palette='muted')"
   ]
  },
  {
   "cell_type": "markdown",
   "id": "fb639bf5",
   "metadata": {},
   "source": [
    "## DATA TRANSFORMATION"
   ]
  },
  {
   "cell_type": "code",
   "execution_count": 47,
   "id": "06943b54",
   "metadata": {},
   "outputs": [],
   "source": [
    "from sklearn.model_selection import train_test_split\n",
    "train_texts, test_texts, train_labels, test_labels = train_test_split(df['Text'], df['Language'], test_size=0.2, random_state=101)"
   ]
  },
  {
   "cell_type": "code",
   "execution_count": 48,
   "id": "8fa9a01d",
   "metadata": {},
   "outputs": [],
   "source": [
    "from sklearn.feature_extraction.text import CountVectorizer\n",
    "cv=CountVectorizer()\n",
    "x_train=cv.fit_transform(train_texts)\n",
    "x_test=cv.transform(test_texts)"
   ]
  },
  {
   "cell_type": "code",
   "execution_count": 49,
   "id": "910d21c6",
   "metadata": {},
   "outputs": [],
   "source": [
    "from sklearn.preprocessing import LabelEncoder\n",
    "le=LabelEncoder()\n",
    "y_train=le.fit_transform(train_labels)\n",
    "y_test=le.transform(test_labels)"
   ]
  },
  {
   "cell_type": "code",
   "execution_count": 50,
   "id": "243d3ae1",
   "metadata": {},
   "outputs": [],
   "source": [
    "from tensorflow.keras.models import Sequential\n",
    "from tensorflow.keras.layers import Dense"
   ]
  },
  {
   "cell_type": "code",
   "execution_count": 51,
   "id": "ac37c60a",
   "metadata": {},
   "outputs": [],
   "source": [
    "mod=Sequential()\n",
    "mod.add(Dense(128,activation='relu',input_shape=(x_train.shape[1],)))\n",
    "mod.add(Dense(64, activation='relu'))\n",
    "mod.add(Dense(len(le.classes_), activation='softmax'))"
   ]
  },
  {
   "cell_type": "code",
   "execution_count": 52,
   "id": "90d4ac42",
   "metadata": {},
   "outputs": [],
   "source": [
    "mod.compile(optimizer='adam', loss='sparse_categorical_crossentropy', metrics=['accuracy'])"
   ]
  },
  {
   "cell_type": "code",
   "execution_count": 53,
   "id": "eca839af",
   "metadata": {},
   "outputs": [],
   "source": [
    "x_train, x_val, y_train, y_val=train_test_split(x_train,y_train,test_size=0.2,random_state=101)"
   ]
  },
  {
   "cell_type": "code",
   "execution_count": 54,
   "id": "9652b2bd",
   "metadata": {},
   "outputs": [],
   "source": [
    "import tensorflow as tf\n",
    "from scipy.sparse import csr_matrix"
   ]
  },
  {
   "cell_type": "code",
   "execution_count": 55,
   "id": "225f14bc",
   "metadata": {},
   "outputs": [],
   "source": [
    "x_train_sparse=tf.convert_to_tensor(csr_matrix(x_test).todense(), dtype=tf.float32)\n",
    "x_val_sparse = tf.convert_to_tensor(csr_matrix(x_val).todense(), dtype=tf.float32)\n",
    "x_test_sparse = tf.convert_to_tensor(csr_matrix(x_test).todense(), dtype=tf.float32)"
   ]
  },
  {
   "cell_type": "code",
   "execution_count": 60,
   "id": "30f7fe56",
   "metadata": {},
   "outputs": [
    {
     "name": "stdout",
     "output_type": "stream",
     "text": [
      "Epoch 1/10\n",
      "65/65 [==============================] - 3s 39ms/step - loss: 2.0687 - accuracy: 0.6349 - val_loss: 1.0925 - val_accuracy: 0.8785\n",
      "Epoch 2/10\n",
      "65/65 [==============================] - 2s 35ms/step - loss: 0.6065 - accuracy: 0.9545 - val_loss: 0.4563 - val_accuracy: 0.9426\n",
      "Epoch 3/10\n",
      "65/65 [==============================] - 2s 34ms/step - loss: 0.2379 - accuracy: 0.9753 - val_loss: 0.3251 - val_accuracy: 0.9504\n",
      "Epoch 4/10\n",
      "65/65 [==============================] - 2s 35ms/step - loss: 0.1369 - accuracy: 0.9869 - val_loss: 0.2767 - val_accuracy: 0.9480\n",
      "Epoch 5/10\n",
      "65/65 [==============================] - 2s 36ms/step - loss: 0.0940 - accuracy: 0.9894 - val_loss: 0.2532 - val_accuracy: 0.9480\n",
      "Epoch 6/10\n",
      "65/65 [==============================] - 2s 36ms/step - loss: 0.0716 - accuracy: 0.9894 - val_loss: 0.2398 - val_accuracy: 0.9462\n",
      "Epoch 7/10\n",
      "65/65 [==============================] - 2s 36ms/step - loss: 0.0586 - accuracy: 0.9903 - val_loss: 0.2346 - val_accuracy: 0.9383\n",
      "Epoch 8/10\n",
      "65/65 [==============================] - 2s 36ms/step - loss: 0.0503 - accuracy: 0.9903 - val_loss: 0.2339 - val_accuracy: 0.9401\n",
      "Epoch 9/10\n",
      "65/65 [==============================] - 2s 35ms/step - loss: 0.0454 - accuracy: 0.9898 - val_loss: 0.2358 - val_accuracy: 0.9359\n",
      "Epoch 10/10\n",
      "65/65 [==============================] - 2s 37ms/step - loss: 0.0426 - accuracy: 0.9898 - val_loss: 0.2372 - val_accuracy: 0.9359\n"
     ]
    },
    {
     "data": {
      "text/plain": [
       "<keras.src.callbacks.History at 0x25b93d1cfd0>"
      ]
     },
     "execution_count": 60,
     "metadata": {},
     "output_type": "execute_result"
    }
   ],
   "source": [
    "mod.fit(x_train_sparse,y_test, epochs=10, batch_size=32, validation_data=(x_val_sparse, y_val))"
   ]
  },
  {
   "cell_type": "code",
   "execution_count": 61,
   "id": "b61b2dbe",
   "metadata": {},
   "outputs": [
    {
     "data": {
      "text/plain": [
       "<Axes: >"
      ]
     },
     "execution_count": 61,
     "metadata": {},
     "output_type": "execute_result"
    },
    {
     "data": {
      "image/png": "[encoded data removed]",
      "text/plain": [
       "<Figure size 640x480 with 1 Axes>"
      ]
     },
     "metadata": {},
     "output_type": "display_data"
    }
   ],
   "source": [
    "ll=pd.DataFrame(mod.history.history)\n",
    "ll.plot()"
   ]
  },
  {
   "cell_type": "code",
   "execution_count": 64,
   "id": "1accff8e",
   "metadata": {},
   "outputs": [
    {
     "name": "stdout",
     "output_type": "stream",
     "text": [
      "65/65 [==============================] - 0s 1ms/step\n",
      "Test Accuracy: 98.89%\n"
     ]
    }
   ],
   "source": [
    "from sklearn.metrics import accuracy_score\n",
    "\n",
    "pred = mod.predict(x_test)\n",
    "y_pred = pred.argmax(axis=1)\n",
    "ac = accuracy_score(y_test, y_pred)\n",
    "print(f'Test Accuracy: {ac * 100:.2f}%')"
   ]
  },
  {
   "cell_type": "code",
   "execution_count": 71,
   "id": "64130773",
   "metadata": {},
   "outputs": [],
   "source": [
    "def predict_language(input_text):\n",
    "    input_text = [input_text]\n",
    "    input_vector = cv.transform(input_text)\n",
    "    input_sparse = tf.convert_to_tensor(input_vector.todense(), dtype=tf.float32)\n",
    "\n",
    "    predictions = mod.predict(input_sparse)\n",
    "\n",
    "    predicted_label_index = np.argmax(predictions)\n",
    "    predicted_language = le.classes_[predicted_label_index]\n",
    "\n",
    "    return predicted_language"
   ]
  },
  {
   "cell_type": "code",
   "execution_count": 72,
   "id": "b937f357",
   "metadata": {},
   "outputs": [
    {
     "name": "stdout",
     "output_type": "stream",
     "text": [
      "1/1 [==============================] - 0s 50ms/step\n",
      "The predicted language for 'Checking if this works' is: English\n"
     ]
    }
   ],
   "source": [
    "input_text = \"Checking if this works\"\n",
    "predicted_language = predict_language(input_text)\n",
    "\n",
    "print(f\"The predicted language for '{input_text}' is: {predicted_language}\")"
   ]
  },
  {
   "cell_type": "code",
   "execution_count": 73,
   "id": "bdb5c553",
   "metadata": {},
   "outputs": [
    {
     "name": "stdout",
     "output_type": "stream",
     "text": [
      "1/1 [==============================] - 0s 36ms/step\n",
      "The predicted language for 'ಚಾನೆಲ್ ಮತ್ತು ರಿಲಯನ್ಸ್ ' is: Kannada\n"
     ]
    }
   ],
   "source": [
    "input_text = \"ಚಾನೆಲ್ ಮತ್ತು ರಿಲಯನ್ಸ್ \"\n",
    "predicted_language = predict_language(input_text)\n",
    "\n",
    "print(f\"The predicted language for '{input_text}' is: {predicted_language}\")"
   ]
  },
  {
   "cell_type": "code",
   "execution_count": 74,
   "id": "d7584383",
   "metadata": {},
   "outputs": [
    {
     "name": "stdout",
     "output_type": "stream",
     "text": [
      "1/1 [==============================] - 0s 80ms/step\n",
      "The predicted language for 'Wie geht es dir' is: German\n"
     ]
    }
   ],
   "source": [
    "input_text = \"Wie geht es dir\"\n",
    "predicted_language = predict_language(input_text)\n",
    "\n",
    "print(f\"The predicted language for '{input_text}' is: {predicted_language}\")"
   ]
  },
  {
   "cell_type": "code",
   "execution_count": 75,
   "id": "4d79a691",
   "metadata": {},
   "outputs": [
    {
     "name": "stdout",
     "output_type": "stream",
     "text": [
      "1/1 [==============================] - 0s 24ms/step\n",
      "The predicted language for 'как жизнь' is: Russian\n"
     ]
    }
   ],
   "source": [
    "input_text = \"как жизнь\"\n",
    "predicted_language = predict_language(input_text)\n",
    "\n",
    "print(f\"The predicted language for '{input_text}' is: {predicted_language}\")"
   ]
  },
  {
   "cell_type": "code",
   "execution_count": 88,
   "id": "584fa15a",
   "metadata": {},
   "outputs": [
    {
     "name": "stdout",
     "output_type": "stream",
     "text": [
      "1/1 [==============================] - 0s 23ms/step\n"
     ]
    }
   ],
   "source": [
    "import tkinter as tk\n",
    "from tkinter import messagebox\n",
    "import joblib\n",
    "import tensorflow as tf\n",
    "import numpy as np\n",
    "\n",
    "def predict_language(input_text):\n",
    "    input_text = [input_text]\n",
    "    input_vector = cv.transform(input_text)\n",
    "    input_sparse = tf.convert_to_tensor(input_vector.todense(), dtype=tf.float32)\n",
    "\n",
    "    predictions = mod.predict(input_sparse)\n",
    "\n",
    "    predicted_label_index = np.argmax(predictions)\n",
    "    predicted_language = le.classes_[predicted_label_index]\n",
    "\n",
    "    return predicted_language\n",
    "\n",
    "def on_predict_button_click():\n",
    "    input_text = entry_text.get()\n",
    "    if input_text:\n",
    "        predicted_language = predict_language(input_text)\n",
    "        result_label.config(text=f\"The predicted language is: {predicted_language}\")\n",
    "    else:\n",
    "        messagebox.showwarning(\"Input Error\", \"Please enter some text for prediction.\")\n",
    "\n",
    "window = tk.Tk()\n",
    "window.title(\"Language Prediction GUI\")\n",
    "window.geometry('800x400')\n",
    "\n",
    "label_instruction = tk.Label(window, text=\"Enter text to predict language:\")\n",
    "label_instruction.pack(pady=10)\n",
    "\n",
    "entry_text = tk.Entry(window, width=80)\n",
    "entry_text.pack(pady=10)\n",
    "\n",
    "button_predict = tk.Button(window, text=\"Predict Language\", command=on_predict_button_click, bg=\"green\", fg=\"white\")\n",
    "button_predict.pack(pady=10)\n",
    "\n",
    "result_label = tk.Label(window, text=\"\", font=('Arial', 14))\n",
    "result_label.pack(pady=10)\n",
    "\n",
    "# Start the GUI event loop\n",
    "window.mainloop()\n"
   ]
  },
  {
   "cell_type": "code",
   "execution_count": null,
   "id": "7c45d5ac",
   "metadata": {},
   "outputs": [],
   "source": []
  }
 ],
 "metadata": {
  "kernelspec": {
   "display_name": "Python 3 (ipykernel)",
   "language": "python",
   "name": "python3"
  },
  "language_info": {
   "codemirror_mode": {
    "name": "ipython",
    "version": 3
   },
   "file_extension": ".py",
   "mimetype": "text/x-python",
   "name": "python",
   "nbconvert_exporter": "python",
   "pygments_lexer": "ipython3",
   "version": "3.11.4"
  }
 },
 "nbformat": 4,
 "nbformat_minor": 5
}
